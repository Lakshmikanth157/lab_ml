{
 "cells": [
  {
   "cell_type": "code",
   "execution_count": 18,
   "id": "a3530f25",
   "metadata": {},
   "outputs": [
    {
     "name": "stdout",
     "output_type": "stream",
     "text": [
      "      age  income student credit_rating buys_computer\n",
      "0    <=30    high      no          fair            no\n",
      "1    <=30    high      no     excellent            no\n",
      "2   31…40    high      no          fair           yes\n",
      "3     >40  medium      no          fair           yes\n",
      "4     >40     low     yes          fair           yes\n",
      "5     >40     low     yes     excellent            no\n",
      "6   31…40     low     yes     excellent           yes\n",
      "7    <=30  medium      no          fair            no\n",
      "8    <=30     low     yes          fair           yes\n",
      "9     >40  medium     yes          fair           yes\n",
      "10   <=30  medium     yes     excellent           yes\n",
      "11  31…40  medium      no     excellent           yes\n",
      "12  31…40    high     yes          fair           yes\n",
      "13    >40  medium      no     excellent            no\n"
     ]
    }
   ],
   "source": [
    "import pandas as pd\n",
    "data = {\n",
    "    'age': ['<=30', '<=30', '31…40', '>40', '>40', '>40', '31…40', '<=30', '<=30', '>40', '<=30', '31…40', '31…40', '>40'],\n",
    "    'income': ['high', 'high', 'high', 'medium', 'low', 'low', 'low', 'medium', 'low', 'medium', 'medium', 'medium', 'high', 'medium'],\n",
    "    'student': ['no', 'no', 'no', 'no', 'yes', 'yes', 'yes', 'no', 'yes', 'yes', 'yes', 'no', 'yes', 'no'],\n",
    "    'credit_rating': ['fair', 'excellent', 'fair', 'fair', 'fair', 'excellent', 'excellent', 'fair', 'fair', 'fair', 'excellent', 'excellent', 'fair', 'excellent'],\n",
    "    'buys_computer': ['no', 'no', 'yes', 'yes', 'yes', 'no', 'yes', 'no', 'yes', 'yes', 'yes', 'yes', 'yes', 'no']\n",
    "}\n",
    "data = pd.DataFrame(data)\n",
    "print(data)"
   ]
  },
  {
   "cell_type": "code",
   "execution_count": 19,
   "id": "60523652",
   "metadata": {},
   "outputs": [
    {
     "name": "stdout",
     "output_type": "stream",
     "text": [
      "Entropy for Age: 1.5774062828523454\n",
      "Entropy for Income: 1.5566567074628228\n",
      "Entropy for Student: 1.0\n",
      "Entropy for Credit Rating: 0.9852281360342516\n",
      "Entropy for Buys Computer (Class Label): 0.9402859586706311\n",
      "Information Gain for Age: 1.1102230246251565e-16\n",
      "Information Gain for Income: 1.6653345369377348e-16\n",
      "Information Gain for Student: 0.0\n",
      "Information Gain for Credit Rating: 1.1102230246251565e-16\n",
      "The first feature for constructing the decision tree is Income.\n"
     ]
    }
   ],
   "source": [
    "#1\n",
    "import math\n",
    "def entropy(attribute):\n",
    "    values = data[attribute].unique()\n",
    "    entropy = 0\n",
    "    for value in values:\n",
    "        p = len(data[data[attribute] == value]) / len(data)\n",
    "        entropy += -p * math.log2(p)\n",
    "    return entropy\n",
    "\n",
    "age_entropy = entropy('age')\n",
    "income_entropy = entropy('income')\n",
    "student_entropy = entropy('student')\n",
    "credit_rating_entropy = entropy('credit_rating')\n",
    "buys_computer_entropy = entropy('buys_computer')\n",
    "print('Entropy for Age:', age_entropy)\n",
    "print('Entropy for Income:', income_entropy)\n",
    "print('Entropy for Student:', student_entropy)\n",
    "print('Entropy for Credit Rating:', credit_rating_entropy)\n",
    "print('Entropy for Buys Computer (Class Label):', buys_computer_entropy)\n",
    "\n",
    "def information_gain(attribute):\n",
    "    values = data[attribute].unique()\n",
    "    information_gain = buys_computer_entropy\n",
    "    for value in values:\n",
    "        subset = data[data[attribute] == value]\n",
    "        p = len(subset) / len(data)\n",
    "        information_gain -= p * entropy('buys_computer')\n",
    "    return information_gain\n",
    "\n",
    "age_information_gain = information_gain('age')\n",
    "income_information_gain = information_gain('income')\n",
    "student_information_gain = information_gain('student')\n",
    "credit_rating_information_gain = information_gain('credit_rating')\n",
    "\n",
    "print('Information Gain for Age:', age_information_gain)\n",
    "print('Information Gain for Income:', income_information_gain)\n",
    "print('Information Gain for Student:', student_information_gain)\n",
    "print('Information Gain for Credit Rating:', credit_rating_information_gain)\n",
    "\n",
    "root_node = max(age_information_gain, income_information_gain, student_information_gain, credit_rating_information_gain)\n",
    "if root_node == age_information_gain:\n",
    "    print('The first feature for constructing the decision tree is Age.')\n",
    "elif root_node == income_information_gain:\n",
    "    print('The first feature for constructing the decision tree is Income.')\n",
    "elif root_node == student_information_gain:\n",
    "    print('The first feature for constructing the decision tree is Student.')\n",
    "else:\n",
    "    print('The first feature for constructing the decision tree is Credit Rating.')\n",
    "\n"
   ]
  },
  {
   "cell_type": "code",
   "execution_count": null,
   "id": "ec2dd2e7",
   "metadata": {},
   "outputs": [],
   "source": []
  }
 ],
 "metadata": {
  "kernelspec": {
   "display_name": "Python 3 (ipykernel)",
   "language": "python",
   "name": "python3"
  },
  "language_info": {
   "codemirror_mode": {
    "name": "ipython",
    "version": 3
   },
   "file_extension": ".py",
   "mimetype": "text/x-python",
   "name": "python",
   "nbconvert_exporter": "python",
   "pygments_lexer": "ipython3",
   "version": "3.11.4"
  }
 },
 "nbformat": 4,
 "nbformat_minor": 5
}
